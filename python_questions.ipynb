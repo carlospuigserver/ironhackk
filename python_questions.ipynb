{
 "cells": [
  {
   "cell_type": "code",
   "execution_count": 1,
   "metadata": {},
   "outputs": [],
   "source": [
    "import pandas as pd\n",
    "import numpy as np\n",
    "import matplotlib.pyplot as plt\n",
    "import seaborn as sns\n",
    "import sys as os\n"
   ]
  },
  {
   "cell_type": "code",
   "execution_count": 2,
   "metadata": {},
   "outputs": [],
   "source": [
    "casas=pd.read_csv('regression_data.csv')"
   ]
  },
  {
   "cell_type": "markdown",
   "metadata": {},
   "source": []
  },
  {
   "cell_type": "code",
   "execution_count": 3,
   "metadata": {},
   "outputs": [
    {
     "name": "stdout",
     "output_type": "stream",
     "text": [
      "           id        date  bedrooms  bathrooms  sqft_living  sqft_lot  floors  \\\n",
      "0  7129300520  10/13/2014         3       1.00         1180      5650     1.0   \n",
      "1  6414100192   12/9/2014         3       2.25         2570      7242     2.0   \n",
      "3  2487200875   12/9/2014         4       3.00         1960      5000     1.0   \n",
      "4  1954400510   2/18/2015         3       2.00         1680      8080     1.0   \n",
      "5  7237550310   5/12/2014         4       4.50         5420    101930     1.0   \n",
      "\n",
      "   waterfront  view  condition  ...  sqft_above  sqft_basement  yr_built  \\\n",
      "0           0     0          3  ...        1180              0      1955   \n",
      "1           0     0          3  ...        2170            400      1951   \n",
      "3           0     0          5  ...        1050            910      1965   \n",
      "4           0     0          3  ...        1680              0      1987   \n",
      "5           0     0          3  ...        3890           1530      2001   \n",
      "\n",
      "   yr_renovated  zipcode      lat     long  sqft_living15  sqft_lot15    price  \n",
      "0             0    98178  47.5112 -122.257           1340        5650   221900  \n",
      "1          1991    98125  47.7210 -122.319           1690        7639   538000  \n",
      "3             0    98136  47.5208 -122.393           1360        5000   604000  \n",
      "4             0    98074  47.6168 -122.045           1800        7503   510000  \n",
      "5             0    98053  47.6561 -122.005           4760      101930  1230000  \n",
      "\n",
      "[5 rows x 21 columns]\n"
     ]
    }
   ],
   "source": [
    "#Number of bedrooms either 3 or 4 \n",
    "casas=casas[(casas['bedrooms']==3) | (casas['bedrooms']==4)]\n",
    "print(casas.head())\n"
   ]
  },
  {
   "cell_type": "code",
   "execution_count": 4,
   "metadata": {},
   "outputs": [
    {
     "name": "stdout",
     "output_type": "stream",
     "text": [
      "               id        date  bedrooms  bathrooms  sqft_living  sqft_lot  \\\n",
      "5      7237550310   5/12/2014         4       4.50         5420    101930   \n",
      "75     3276920270   11/5/2014         4       4.00         3430     35102   \n",
      "87     3342103156   6/18/2014         3       3.25         2770      6278   \n",
      "115    3626039325  11/21/2014         3       3.50         4380      6350   \n",
      "116    3362400431   6/26/2014         3       3.50         1590      1102   \n",
      "...           ...         ...       ...        ...          ...       ...   \n",
      "21561  3881900317   1/23/2015         4       3.25         1900      2631   \n",
      "21563  7011201004   5/29/2014         3       3.25         1730      1229   \n",
      "21574  7430200100   5/14/2014         4       3.50         4910      9444   \n",
      "21581   191100405   4/21/2015         4       3.25         3410     10125   \n",
      "21590  7936000429   3/26/2015         4       3.50         3510      7200   \n",
      "\n",
      "       floors  waterfront  view  condition  ...  sqft_above  sqft_basement  \\\n",
      "5         1.0           0     0          3  ...        3890           1530   \n",
      "75        2.0           0     0          4  ...        2390           1040   \n",
      "87        2.0           0     0          3  ...        1980            790   \n",
      "115       2.0           0     0          3  ...        2780           1600   \n",
      "116       3.0           0     0          3  ...        1590              0   \n",
      "...       ...         ...   ...        ...  ...         ...            ...   \n",
      "21561     2.0           0     0          3  ...        1250            650   \n",
      "21563     2.0           0     2          3  ...        1320            410   \n",
      "21574     1.5           0     0          3  ...        3110           1800   \n",
      "21581     2.0           0     0          3  ...        3410              0   \n",
      "21590     2.0           0     0          3  ...        2600            910   \n",
      "\n",
      "       yr_built  yr_renovated  zipcode      lat     long  sqft_living15  \\\n",
      "5          2001             0    98053  47.6561 -122.005           4760   \n",
      "75         1986             0    98075  47.5822 -121.987           3240   \n",
      "87         2006             0    98056  47.5228 -122.199           1900   \n",
      "115        1900          1999    98117  47.6981 -122.368           1830   \n",
      "116        2010             0    98103  47.6824 -122.347           1620   \n",
      "...         ...           ...      ...      ...      ...            ...   \n",
      "21561      2014             0    98144  47.5869 -122.311           1710   \n",
      "21563      2008             0    98119  47.6374 -122.369           1710   \n",
      "21574      2007             0    98074  47.6502 -122.066           4560   \n",
      "21581      2007             0    98040  47.5653 -122.223           2290   \n",
      "21590      2009             0    98136  47.5537 -122.398           2050   \n",
      "\n",
      "       sqft_lot15    price  \n",
      "5          101930  1230000  \n",
      "75          35020   832500  \n",
      "87           7349   461000  \n",
      "115          6350   740500  \n",
      "116          3166   518500  \n",
      "...           ...      ...  \n",
      "21561        4502   579000  \n",
      "21563        1686   645000  \n",
      "21574       11063  1220000  \n",
      "21581       10125  1580000  \n",
      "21590        6200  1010000  \n",
      "\n",
      "[1246 rows x 21 columns]\n"
     ]
    }
   ],
   "source": [
    "#Bathrooms more than 3 \n",
    "casas=casas[casas['bathrooms']>3]\n",
    "print(casas)"
   ]
  },
  {
   "cell_type": "code",
   "execution_count": 5,
   "metadata": {},
   "outputs": [
    {
     "name": "stdout",
     "output_type": "stream",
     "text": [
      "               id       date  bedrooms  bathrooms  sqft_living  sqft_lot  \\\n",
      "5      7237550310  5/12/2014         4       4.50         5420    101930   \n",
      "300    3225069065  6/24/2014         4       5.00         4550     18641   \n",
      "313    4139480200  6/18/2014         4       3.25         4290     12103   \n",
      "314    4139480200  12/9/2014         4       3.25         4290     12103   \n",
      "409    1560930070  9/11/2014         4       3.50         2840     40139   \n",
      "...           ...        ...       ...        ...          ...       ...   \n",
      "20713  3758900023  5/21/2014         4       3.25         3810      8519   \n",
      "20905  3864000120   4/8/2015         4       3.25         3780     10099   \n",
      "20957  1239400650  11/7/2014         4       3.50         4700     10183   \n",
      "21271   123059127   5/2/2014         4       3.25         2730     54014   \n",
      "21514  8964800330   4/7/2015         4       3.75         5090     14823   \n",
      "\n",
      "       floors  waterfront  view  condition  ...  sqft_above  sqft_basement  \\\n",
      "5         1.0           0     0          3  ...        3890           1530   \n",
      "300       1.0           1     4          3  ...        2600           1950   \n",
      "313       1.0           0     3          3  ...        2690           1600   \n",
      "314       1.0           0     3          3  ...        2690           1600   \n",
      "409       1.0           0     4          4  ...        2840              0   \n",
      "...       ...         ...   ...        ...  ...         ...            ...   \n",
      "20713     1.0           0     1          3  ...        2680           1130   \n",
      "20905     1.0           0     1          3  ...        2240           1540   \n",
      "20957     1.0           0     2          3  ...        2660           2040   \n",
      "21271     1.0           0     0          3  ...        1560           1170   \n",
      "21514     1.0           0     0          3  ...        4180            910   \n",
      "\n",
      "       yr_built  yr_renovated  zipcode      lat     long  sqft_living15  \\\n",
      "5          2001             0    98053  47.6561 -122.005           4760   \n",
      "300        2002             0    98074  47.6053 -122.077           4550   \n",
      "313        1997             0    98006  47.5503 -122.102           3860   \n",
      "314        1997             0    98006  47.5503 -122.102           3860   \n",
      "409        1986             0    98038  47.4010 -122.026           3180   \n",
      "...         ...           ...      ...      ...      ...            ...   \n",
      "20713      2007             0    98033  47.6990 -122.207           3240   \n",
      "20905      2006             0    98006  47.5508 -122.192           3120   \n",
      "20957      2002             0    98033  47.6728 -122.189           3770   \n",
      "21271      2007             0    98059  47.5133 -122.110           2730   \n",
      "21514      2013             0    98004  47.6200 -122.207           3030   \n",
      "\n",
      "       sqft_lot15    price  \n",
      "5          101930  1230000  \n",
      "300         19508  3080000  \n",
      "313         11244  1380000  \n",
      "314         11244  1400000  \n",
      "409         36852   840000  \n",
      "...           ...      ...  \n",
      "20713       10748  1130000  \n",
      "20905       10669  1180000  \n",
      "20957        9000  1240000  \n",
      "21271      111274   625000  \n",
      "21514       12752  3000000  \n",
      "\n",
      "[111 rows x 21 columns]\n"
     ]
    }
   ],
   "source": [
    "#One Floor\n",
    "casas=casas[casas['floors']==1]\n",
    "print(casas)"
   ]
  },
  {
   "cell_type": "code",
   "execution_count": 6,
   "metadata": {},
   "outputs": [
    {
     "name": "stdout",
     "output_type": "stream",
     "text": [
      "               id       date  bedrooms  bathrooms  sqft_living  sqft_lot  \\\n",
      "5      7237550310  5/12/2014         4       4.50         5420    101930   \n",
      "313    4139480200  6/18/2014         4       3.25         4290     12103   \n",
      "314    4139480200  12/9/2014         4       3.25         4290     12103   \n",
      "409    1560930070  9/11/2014         4       3.50         2840     40139   \n",
      "792    8081020370   7/9/2014         4       3.50         3550     11000   \n",
      "...           ...        ...       ...        ...          ...       ...   \n",
      "20713  3758900023  5/21/2014         4       3.25         3810      8519   \n",
      "20905  3864000120   4/8/2015         4       3.25         3780     10099   \n",
      "20957  1239400650  11/7/2014         4       3.50         4700     10183   \n",
      "21271   123059127   5/2/2014         4       3.25         2730     54014   \n",
      "21514  8964800330   4/7/2015         4       3.75         5090     14823   \n",
      "\n",
      "       floors  waterfront  view  condition  ...  sqft_above  sqft_basement  \\\n",
      "5         1.0           0     0          3  ...        3890           1530   \n",
      "313       1.0           0     3          3  ...        2690           1600   \n",
      "314       1.0           0     3          3  ...        2690           1600   \n",
      "409       1.0           0     4          4  ...        2840              0   \n",
      "792       1.0           0     2          3  ...        2260           1290   \n",
      "...       ...         ...   ...        ...  ...         ...            ...   \n",
      "20713     1.0           0     1          3  ...        2680           1130   \n",
      "20905     1.0           0     1          3  ...        2240           1540   \n",
      "20957     1.0           0     2          3  ...        2660           2040   \n",
      "21271     1.0           0     0          3  ...        1560           1170   \n",
      "21514     1.0           0     0          3  ...        4180            910   \n",
      "\n",
      "       yr_built  yr_renovated  zipcode      lat     long  sqft_living15  \\\n",
      "5          2001             0    98053  47.6561 -122.005           4760   \n",
      "313        1997             0    98006  47.5503 -122.102           3860   \n",
      "314        1997             0    98006  47.5503 -122.102           3860   \n",
      "409        1986             0    98038  47.4010 -122.026           3180   \n",
      "792        1999             0    98006  47.5506 -122.134           4100   \n",
      "...         ...           ...      ...      ...      ...            ...   \n",
      "20713      2007             0    98033  47.6990 -122.207           3240   \n",
      "20905      2006             0    98006  47.5508 -122.192           3120   \n",
      "20957      2002             0    98033  47.6728 -122.189           3770   \n",
      "21271      2007             0    98059  47.5133 -122.110           2730   \n",
      "21514      2013             0    98004  47.6200 -122.207           3030   \n",
      "\n",
      "       sqft_lot15    price  \n",
      "5          101930  1230000  \n",
      "313         11244  1380000  \n",
      "314         11244  1400000  \n",
      "409         36852   840000  \n",
      "792         10012  1360000  \n",
      "...           ...      ...  \n",
      "20713       10748  1130000  \n",
      "20905       10669  1180000  \n",
      "20957        9000  1240000  \n",
      "21271      111274   625000  \n",
      "21514       12752  3000000  \n",
      "\n",
      "[105 rows x 21 columns]\n"
     ]
    }
   ],
   "source": [
    "#No waterfront\n",
    "casas=casas[casas['waterfront']==0]\n",
    "print(casas)"
   ]
  },
  {
   "cell_type": "code",
   "execution_count": 7,
   "metadata": {},
   "outputs": [
    {
     "name": "stdout",
     "output_type": "stream",
     "text": [
      "               id       date  bedrooms  bathrooms  sqft_living  sqft_lot  \\\n",
      "5      7237550310  5/12/2014         4       4.50         5420    101930   \n",
      "313    4139480200  6/18/2014         4       3.25         4290     12103   \n",
      "314    4139480200  12/9/2014         4       3.25         4290     12103   \n",
      "409    1560930070  9/11/2014         4       3.50         2840     40139   \n",
      "792    8081020370   7/9/2014         4       3.50         3550     11000   \n",
      "...           ...        ...       ...        ...          ...       ...   \n",
      "20713  3758900023  5/21/2014         4       3.25         3810      8519   \n",
      "20905  3864000120   4/8/2015         4       3.25         3780     10099   \n",
      "20957  1239400650  11/7/2014         4       3.50         4700     10183   \n",
      "21271   123059127   5/2/2014         4       3.25         2730     54014   \n",
      "21514  8964800330   4/7/2015         4       3.75         5090     14823   \n",
      "\n",
      "       floors  waterfront  view  condition  ...  sqft_above  sqft_basement  \\\n",
      "5         1.0           0     0          3  ...        3890           1530   \n",
      "313       1.0           0     3          3  ...        2690           1600   \n",
      "314       1.0           0     3          3  ...        2690           1600   \n",
      "409       1.0           0     4          4  ...        2840              0   \n",
      "792       1.0           0     2          3  ...        2260           1290   \n",
      "...       ...         ...   ...        ...  ...         ...            ...   \n",
      "20713     1.0           0     1          3  ...        2680           1130   \n",
      "20905     1.0           0     1          3  ...        2240           1540   \n",
      "20957     1.0           0     2          3  ...        2660           2040   \n",
      "21271     1.0           0     0          3  ...        1560           1170   \n",
      "21514     1.0           0     0          3  ...        4180            910   \n",
      "\n",
      "       yr_built  yr_renovated  zipcode      lat     long  sqft_living15  \\\n",
      "5          2001             0    98053  47.6561 -122.005           4760   \n",
      "313        1997             0    98006  47.5503 -122.102           3860   \n",
      "314        1997             0    98006  47.5503 -122.102           3860   \n",
      "409        1986             0    98038  47.4010 -122.026           3180   \n",
      "792        1999             0    98006  47.5506 -122.134           4100   \n",
      "...         ...           ...      ...      ...      ...            ...   \n",
      "20713      2007             0    98033  47.6990 -122.207           3240   \n",
      "20905      2006             0    98006  47.5508 -122.192           3120   \n",
      "20957      2002             0    98033  47.6728 -122.189           3770   \n",
      "21271      2007             0    98059  47.5133 -122.110           2730   \n",
      "21514      2013             0    98004  47.6200 -122.207           3030   \n",
      "\n",
      "       sqft_lot15    price  \n",
      "5          101930  1230000  \n",
      "313         11244  1380000  \n",
      "314         11244  1400000  \n",
      "409         36852   840000  \n",
      "792         10012  1360000  \n",
      "...           ...      ...  \n",
      "20713       10748  1130000  \n",
      "20905       10669  1180000  \n",
      "20957        9000  1240000  \n",
      "21271      111274   625000  \n",
      "21514       12752  3000000  \n",
      "\n",
      "[105 rows x 21 columns]\n"
     ]
    }
   ],
   "source": [
    "#Condition should be 3 at least\n",
    "casas=casas[casas['condition']>=3]\n",
    "print(casas)\n"
   ]
  },
  {
   "cell_type": "code",
   "execution_count": 8,
   "metadata": {},
   "outputs": [
    {
     "name": "stdout",
     "output_type": "stream",
     "text": [
      "               id       date  bedrooms  bathrooms  sqft_living  sqft_lot  \\\n",
      "5      7237550310  5/12/2014         4       4.50         5420    101930   \n",
      "313    4139480200  6/18/2014         4       3.25         4290     12103   \n",
      "314    4139480200  12/9/2014         4       3.25         4290     12103   \n",
      "409    1560930070  9/11/2014         4       3.50         2840     40139   \n",
      "792    8081020370   7/9/2014         4       3.50         3550     11000   \n",
      "...           ...        ...       ...        ...          ...       ...   \n",
      "20713  3758900023  5/21/2014         4       3.25         3810      8519   \n",
      "20905  3864000120   4/8/2015         4       3.25         3780     10099   \n",
      "20957  1239400650  11/7/2014         4       3.50         4700     10183   \n",
      "21271   123059127   5/2/2014         4       3.25         2730     54014   \n",
      "21514  8964800330   4/7/2015         4       3.75         5090     14823   \n",
      "\n",
      "       floors  waterfront  view  condition  ...  sqft_above  sqft_basement  \\\n",
      "5         1.0           0     0          3  ...        3890           1530   \n",
      "313       1.0           0     3          3  ...        2690           1600   \n",
      "314       1.0           0     3          3  ...        2690           1600   \n",
      "409       1.0           0     4          4  ...        2840              0   \n",
      "792       1.0           0     2          3  ...        2260           1290   \n",
      "...       ...         ...   ...        ...  ...         ...            ...   \n",
      "20713     1.0           0     1          3  ...        2680           1130   \n",
      "20905     1.0           0     1          3  ...        2240           1540   \n",
      "20957     1.0           0     2          3  ...        2660           2040   \n",
      "21271     1.0           0     0          3  ...        1560           1170   \n",
      "21514     1.0           0     0          3  ...        4180            910   \n",
      "\n",
      "       yr_built  yr_renovated  zipcode      lat     long  sqft_living15  \\\n",
      "5          2001             0    98053  47.6561 -122.005           4760   \n",
      "313        1997             0    98006  47.5503 -122.102           3860   \n",
      "314        1997             0    98006  47.5503 -122.102           3860   \n",
      "409        1986             0    98038  47.4010 -122.026           3180   \n",
      "792        1999             0    98006  47.5506 -122.134           4100   \n",
      "...         ...           ...      ...      ...      ...            ...   \n",
      "20713      2007             0    98033  47.6990 -122.207           3240   \n",
      "20905      2006             0    98006  47.5508 -122.192           3120   \n",
      "20957      2002             0    98033  47.6728 -122.189           3770   \n",
      "21271      2007             0    98059  47.5133 -122.110           2730   \n",
      "21514      2013             0    98004  47.6200 -122.207           3030   \n",
      "\n",
      "       sqft_lot15    price  \n",
      "5          101930  1230000  \n",
      "313         11244  1380000  \n",
      "314         11244  1400000  \n",
      "409         36852   840000  \n",
      "792         10012  1360000  \n",
      "...           ...      ...  \n",
      "20713       10748  1130000  \n",
      "20905       10669  1180000  \n",
      "20957        9000  1240000  \n",
      "21271      111274   625000  \n",
      "21514       12752  3000000  \n",
      "\n",
      "[105 rows x 21 columns]\n"
     ]
    }
   ],
   "source": [
    "#Grade should be 5 at least\n",
    "casas=casas[casas['grade']>=5]\n",
    "print(casas)"
   ]
  },
  {
   "cell_type": "code",
   "execution_count": 9,
   "metadata": {},
   "outputs": [
    {
     "name": "stdout",
     "output_type": "stream",
     "text": [
      "Empty DataFrame\n",
      "Columns: [id, date, bedrooms, bathrooms, sqft_living, sqft_lot, floors, waterfront, view, condition, grade, sqft_above, sqft_basement, yr_built, yr_renovated, zipcode, lat, long, sqft_living15, sqft_lot15, price]\n",
      "Index: []\n",
      "\n",
      "[0 rows x 21 columns]\n"
     ]
    }
   ],
   "source": [
    "#Price smaller than 300000\n",
    "casas=casas[casas['price']<300000]\n",
    "print(casas)"
   ]
  },
  {
   "cell_type": "code",
   "execution_count": 15,
   "metadata": {},
   "outputs": [
    {
     "name": "stdout",
     "output_type": "stream",
     "text": [
      "Empty DataFrame\n",
      "Columns: [id, date, bedrooms, bathrooms, sqft_living, sqft_lot, floors, waterfront, view, condition, grade, sqft_above, sqft_basement, yr_built, yr_renovated, zipcode, lat, long, sqft_living15, sqft_lot15, price]\n",
      "Index: []\n",
      "\n",
      "[0 rows x 21 columns]\n"
     ]
    }
   ],
   "source": [
    "casas[(casas['bedrooms']==3) | (casas['bedrooms']==4)] & (casas['bathrooms']>3) & (casas['floors']==1) & (casas['waterfront']==0) & (casas['condition']>=3) & (casas['grade']>=5) & (casas['price']>300000)\n",
    "print(casas.head())"
   ]
  },
  {
   "cell_type": "markdown",
   "metadata": {},
   "source": [
    "10.Most customers are interested in properties with three or four bedrooms. What is the difference in average prices of the properties with three and four bedrooms? In this case you can simply use a groupby to check the prices for those particular houses."
   ]
  },
  {
   "cell_type": "code",
   "execution_count": 19,
   "metadata": {},
   "outputs": [
    {
     "data": {
      "text/plain": [
       "nan"
      ]
     },
     "execution_count": 19,
     "metadata": {},
     "output_type": "execute_result"
    }
   ],
   "source": [
    "(casas[casas['bedrooms']==4]['price'].mean())-((casas[casas['bedrooms']==3]['price'].mean()))\n",
    "\n",
    "#Las viviendas con 3 habitaciones, son casi 170.000 euros mas baratas que las viviendas con 4 habitacines."
   ]
  }
 ],
 "metadata": {
  "kernelspec": {
   "display_name": "Python 3.10.8 64-bit (microsoft store)",
   "language": "python",
   "name": "python3"
  },
  "language_info": {
   "codemirror_mode": {
    "name": "ipython",
    "version": 3
   },
   "file_extension": ".py",
   "mimetype": "text/x-python",
   "name": "python",
   "nbconvert_exporter": "python",
   "pygments_lexer": "ipython3",
   "version": "3.10.8"
  },
  "orig_nbformat": 4,
  "vscode": {
   "interpreter": {
    "hash": "da41a09902426c17f8b1259e92b559cedcb2a26624b80b6e2df84a72ad457b4e"
   }
  }
 },
 "nbformat": 4,
 "nbformat_minor": 2
}
